{
 "nbformat": 4,
 "nbformat_minor": 2,
 "metadata": {
  "language_info": {
   "name": "python",
   "codemirror_mode": {
    "name": "ipython",
    "version": 3
   },
   "version": "3.6.9-final"
  },
  "orig_nbformat": 2,
  "file_extension": ".py",
  "mimetype": "text/x-python",
  "name": "python",
  "npconvert_exporter": "python",
  "pygments_lexer": "ipython3",
  "version": 3,
  "kernelspec": {
   "name": "python36964bit873083f221304c249a0ca67de0b606f6",
   "display_name": "Python 3.6.9 64-bit"
  }
 },
 "cells": [
  {
   "cell_type": "code",
   "execution_count": 1,
   "metadata": {},
   "outputs": [],
   "source": [
    "import time\n",
    "import tensorflow as tf\n",
    "import tensorflow.contrib.tensorrt as trt"
   ]
  },
  {
   "cell_type": "code",
   "execution_count": 2,
   "metadata": {},
   "outputs": [],
   "source": [
    "ORIGINAL_PB_FILE = '/tf_api/workspace/training/output/output_inference_graph_v3.pb/frozen_inference_graph.pb'\n",
    "OPTIMIZED_FP16_GRAPH = '/experiments/models/converted/ssd_resnet50_v1_fpn_fp16.pb'"
   ]
  },
  {
   "cell_type": "code",
   "execution_count": 3,
   "metadata": {},
   "outputs": [],
   "source": [
    "with tf.gfile.GFile(ORIGINAL_PB_FILE, 'rb') as f:\n",
    "    graph_def = tf.GraphDef()\n",
    "    graph_def.ParseFromString(f.read())"
   ]
  },
  {
   "cell_type": "code",
   "execution_count": 4,
   "metadata": {},
   "outputs": [],
   "source": [
    "# Configure TF session\n",
    "tf_config = tf.ConfigProto()\n",
    "tf_config.gpu_options.allow_growth = True"
   ]
  },
  {
   "cell_type": "code",
   "execution_count": 5,
   "metadata": {},
   "outputs": [],
   "source": [
    "SEGMENT_SIZE = 3\n",
    "IS_DYNAMIC = False\n",
    "WORKSPACE_SIZE = 2*10**9\n",
    "BATCH_SIZE = 1  \n",
    "NUM_ENGINES = 1\n",
    "BATCH_SIZES = []"
   ]
  },
  {
   "cell_type": "code",
   "execution_count": 6,
   "metadata": {},
   "outputs": [
    {
     "output_type": "stream",
     "name": "stdout",
     "text": "INFO:tensorflow:Linked TensorRT version: (0, 0, 0)\nINFO:tensorflow:Loaded TensorRT version: (0, 0, 0)\nINFO:tensorflow:Running against TensorRT version 0.0.0\n12.279801943999985\n0.13442467699996996\n"
    }
   ],
   "source": [
    "with tf.Session(config=tf_config): \n",
    "    start = time.perf_counter()\n",
    "    trt_graph = trt.create_inference_graph(\n",
    "        input_graph_def=graph_def,\n",
    "        outputs = ['detection_boxes:0','detection_scores:0','detection_classes:0','num_detections:0'],\n",
    "        max_batch_size=BATCH_SIZE,\n",
    "        max_workspace_size_bytes=WORKSPACE_SIZE,\n",
    "        is_dynamic_op=False,\n",
    "        precision_mode='FP16',\n",
    "        maximum_cached_engines=NUM_ENGINES,\n",
    "        #cached_engine_batch_sizes=BATCH_SIZES, \n",
    "        #cached_engine_batches=BATCH_SIZES,\n",
    "        minimum_segment_size=SEGMENT_SIZE\n",
    "    )\n",
    "    print(time.perf_counter() - start)\n",
    "\n",
    "start = time.perf_counter()\n",
    "with open(OPTIMIZED_FP16_GRAPH, 'wb') as f:\n",
    "    f.write(trt_graph.SerializeToString())\n",
    "print(time.perf_counter() - start)"
   ]
  },
  {
   "cell_type": "code",
   "execution_count": null,
   "metadata": {},
   "outputs": [],
   "source": []
  }
 ]
}